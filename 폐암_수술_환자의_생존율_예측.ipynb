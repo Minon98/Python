{
  "nbformat": 4,
  "nbformat_minor": 0,
  "metadata": {
    "colab": {
      "provenance": [],
      "authorship_tag": "ABX9TyOr9gZXN31idbTjzbJ/SJ+W",
      "include_colab_link": true
    },
    "kernelspec": {
      "name": "python3",
      "display_name": "Python 3"
    },
    "language_info": {
      "name": "python"
    }
  },
  "cells": [
    {
      "cell_type": "markdown",
      "metadata": {
        "id": "view-in-github",
        "colab_type": "text"
      },
      "source": [
        "<a href=\"https://colab.research.google.com/github/minyongP/Python/blob/main/%ED%8F%90%EC%95%94_%EC%88%98%EC%88%A0_%ED%99%98%EC%9E%90%EC%9D%98_%EC%83%9D%EC%A1%B4%EC%9C%A8_%EC%98%88%EC%B8%A1.ipynb\" target=\"_parent\"><img src=\"https://colab.research.google.com/assets/colab-badge.svg\" alt=\"Open In Colab\"/></a>"
      ]
    },
    {
      "cell_type": "code",
      "execution_count": 7,
      "metadata": {
        "id": "m7kXvXcyP7jP"
      },
      "outputs": [],
      "source": [
        "from keras.models import Sequential\n",
        "from keras.layers import Dense\n",
        "\n",
        "import numpy as np\n",
        "import pandas as pd"
      ]
    },
    {
      "cell_type": "code",
      "source": [
        "targetUrl_ThoraricSurgery3 = \"https://raw.githubusercontent.com/taehojo/data/master/ThoraricSurgery3.csv\"\n",
        "df = pd.read_csv(targetUrl_ThoraricSurgery3)"
      ],
      "metadata": {
        "id": "9sKyhc8jQJwv"
      },
      "execution_count": 8,
      "outputs": []
    },
    {
      "cell_type": "code",
      "source": [
        "X = df.iloc[:,0:16]\n",
        "y = df.iloc[:,16]\n",
        "\n",
        "model = Sequential()\n",
        "model.add(Dense(30, input_dim=16, activation='relu'))\n",
        "model.add(Dense(1, activation = 'sigmoid'))\n",
        "\n",
        "model.compile(loss='binary_crossentropy', optimizer='adam', metrics='accuracy')\n",
        "history = model.fit(X, y, epochs=5, batch_size=16)"
      ],
      "metadata": {
        "colab": {
          "base_uri": "https://localhost:8080/"
        },
        "id": "BK7y-Yh_cldU",
        "outputId": "dd9bb392-c916-409d-ae5a-d5bf2d20c604"
      },
      "execution_count": 13,
      "outputs": [
        {
          "output_type": "stream",
          "name": "stdout",
          "text": [
            "Epoch 1/5\n",
            "30/30 [==============================] - 1s 3ms/step - loss: 9.4865 - accuracy: 0.1493\n",
            "Epoch 2/5\n",
            "30/30 [==============================] - 0s 2ms/step - loss: 2.6914 - accuracy: 0.2516\n",
            "Epoch 3/5\n",
            "30/30 [==============================] - 0s 2ms/step - loss: 0.7281 - accuracy: 0.8252\n",
            "Epoch 4/5\n",
            "30/30 [==============================] - 0s 2ms/step - loss: 0.6076 - accuracy: 0.8252\n",
            "Epoch 5/5\n",
            "30/30 [==============================] - 0s 2ms/step - loss: 0.4986 - accuracy: 0.8252\n"
          ]
        }
      ]
    }
  ]
}