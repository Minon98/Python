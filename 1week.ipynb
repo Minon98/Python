{
  "nbformat": 4,
  "nbformat_minor": 0,
  "metadata": {
    "colab": {
      "provenance": [],
      "collapsed_sections": [],
      "authorship_tag": "ABX9TyPIGyyFRPXy5CpJqBj6Z/hp",
      "include_colab_link": true
    },
    "kernelspec": {
      "name": "python3",
      "display_name": "Python 3"
    },
    "language_info": {
      "name": "python"
    }
  },
  "cells": [
    {
      "cell_type": "markdown",
      "metadata": {
        "id": "view-in-github",
        "colab_type": "text"
      },
      "source": [
        "<a href=\"https://colab.research.google.com/github/Minon98/Python_DeepLearning_practice/blob/main/firstStep.ipynb\" target=\"_parent\"><img src=\"https://colab.research.google.com/assets/colab-badge.svg\" alt=\"Open In Colab\"/></a>"
      ]
    },
    {
      "cell_type": "code",
      "execution_count": null,
      "metadata": {
        "colab": {
          "base_uri": "https://localhost:8080/"
        },
        "id": "DILfpb24vCgR",
        "outputId": "93e076ec-5069-4155-d2c3-e15912f6b699"
      },
      "outputs": [
        {
          "output_type": "execute_result",
          "data": {
            "text/plain": [
              "3"
            ]
          },
          "metadata": {},
          "execution_count": 6
        }
      ],
      "source": [
        "#201904291 박민용\n",
        "\n",
        "#1번\n",
        "\n",
        "a=1\n",
        "b=2\n",
        "a+b"
      ]
    },
    {
      "cell_type": "code",
      "source": [
        "'''\n",
        "2번\n",
        "깃허브 id/repository -> Minon98/Python_DeepLearning_practice\n",
        "HTTP -> https://github.com/Minon98/Python_DeepLearning_practice.git\n",
        "'''"
      ],
      "metadata": {
        "id": "R4EgPDOYvjTV"
      },
      "execution_count": null,
      "outputs": []
    },
    {
      "cell_type": "code",
      "source": [
        "#201904291 박민용\n",
        "\n",
        "#3번\n",
        "\n",
        "while True:\n",
        "  temp = input(\"30이하의 정수를 입력. : \")\n",
        "\n",
        "  if not temp.isnumeric():                    #isdecimal: 문자열이 정수형으로 변환 가능한지 체크 / isnumeric() : 제곱, 분수까지 체크\n",
        "    print(\"정수로 입력하세요\")\n",
        "    continue\n",
        "\n",
        "  elif int(temp) > 30:\n",
        "    print(\"너무 많다\")\n",
        "    continue\n",
        "\n",
        "  else:\n",
        "    break\n",
        "\n",
        "temp = int(temp)\n",
        "\n",
        "for a in range(1,temp+1):\n",
        "  for b in range(1,a+1):\n",
        "    print(b, end = \" \")\n",
        "  print()"
      ],
      "metadata": {
        "colab": {
          "base_uri": "https://localhost:8080/"
        },
        "id": "4tYxqSc8yCW6",
        "outputId": "da3dd844-5328-4c20-8fa8-1d77f138da01"
      },
      "execution_count": null,
      "outputs": [
        {
          "output_type": "stream",
          "name": "stdout",
          "text": [
            "30이하의 정수를 입력. : a\n",
            "정수로 입력하세요\n",
            "30이하의 정수를 입력. : -1\n",
            "정수로 입력하세요\n",
            "30이하의 정수를 입력. : !\n",
            "정수로 입력하세요\n",
            "30이하의 정수를 입력. : 40\n",
            "너무 많다\n",
            "30이하의 정수를 입력. : 6\n",
            "1 \n",
            "1 2 \n",
            "1 2 3 \n",
            "1 2 3 4 \n",
            "1 2 3 4 5 \n",
            "1 2 3 4 5 6 \n"
          ]
        }
      ]
    },
    {
      "cell_type": "code",
      "source": [],
      "metadata": {
        "id": "brxEUNhO23Z7"
      },
      "execution_count": null,
      "outputs": []
    }
  ]
}
