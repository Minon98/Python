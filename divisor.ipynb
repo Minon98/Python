{
  "nbformat": 4,
  "nbformat_minor": 0,
  "metadata": {
    "colab": {
      "provenance": [],
      "collapsed_sections": [],
      "authorship_tag": "ABX9TyNWR6tZzgOpF14otaOZCaQs",
      "include_colab_link": true
    },
    "kernelspec": {
      "name": "python3",
      "display_name": "Python 3"
    },
    "language_info": {
      "name": "python"
    }
  },
  "cells": [
    {
      "cell_type": "markdown",
      "metadata": {
        "id": "view-in-github",
        "colab_type": "text"
      },
      "source": [
        "<a href=\"https://colab.research.google.com/github/Minon98/Python/blob/main/divisor.ipynb\" target=\"_parent\"><img src=\"https://colab.research.google.com/assets/colab-badge.svg\" alt=\"Open In Colab\"/></a>"
      ]
    },
    {
      "cell_type": "code",
      "execution_count": null,
      "metadata": {
        "colab": {
          "base_uri": "https://localhost:8080/"
        },
        "id": "urf7hVy2DK5w",
        "outputId": "1a7853da-0d64-4a2b-f1d2-f465e9d501a5"
      },
      "outputs": [
        {
          "output_type": "stream",
          "name": "stdout",
          "text": [
            "Enter integer x.3\n",
            "Enter integer y.3\n",
            "x와 y는같은숫자이다.\n"
          ]
        }
      ],
      "source": [
        "x = int(input('Enter integer x.'))\n",
        "y = int(input('Enter integer y.'))\n",
        "\n",
        "if(x==y):\n",
        "  print('x와 y는같은숫자이다.')\n",
        "\n",
        "elif(y%x==0):\n",
        "  print('x는 y의약수이지만, y가아니다.')\n",
        "\n",
        "elif(x%y==0):\n",
        "  print('y는 x의약수이지만, x가아니다.')\n",
        "\n",
        "else:\n",
        "  print('x와 y는 서로의 약수가 아니다.')"
      ]
    }
  ]
}