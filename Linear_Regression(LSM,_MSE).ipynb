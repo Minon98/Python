{
  "nbformat": 4,
  "nbformat_minor": 0,
  "metadata": {
    "colab": {
      "provenance": [],
      "authorship_tag": "ABX9TyMO4qgIO+/0uQ9nuJryMoqS",
      "include_colab_link": true
    },
    "kernelspec": {
      "name": "python3",
      "display_name": "Python 3"
    },
    "language_info": {
      "name": "python"
    }
  },
  "cells": [
    {
      "cell_type": "markdown",
      "metadata": {
        "id": "view-in-github",
        "colab_type": "text"
      },
      "source": [
        "<a href=\"https://colab.research.google.com/github/Minon98/Python/blob/main/Linear_Regression(LSM%2C_MSE).ipynb\" target=\"_parent\"><img src=\"https://colab.research.google.com/assets/colab-badge.svg\" alt=\"Open In Colab\"/></a>"
      ]
    },
    {
      "cell_type": "markdown",
      "source": [
        "# 선형회귀"
      ],
      "metadata": {
        "id": "myDN0vVgCp2e"
      }
    },
    {
      "cell_type": "markdown",
      "source": [
        "- 최소 제곱법"
      ],
      "metadata": {
        "id": "s6IMvTagAWkS"
      }
    },
    {
      "cell_type": "code",
      "execution_count": 4,
      "metadata": {
        "colab": {
          "base_uri": "https://localhost:8080/"
        },
        "id": "PxK9XFbZ6Syg",
        "outputId": "44773918-73df-4c38-d45c-d1a0f83ca04e"
      },
      "outputs": [
        {
          "output_type": "stream",
          "name": "stdout",
          "text": [
            "x 평균:  5.0 y 평균:  90.5\n"
          ]
        }
      ],
      "source": [
        "import numpy as np\n",
        "\n",
        "x = np.array([2, 4, 6, 8])      # 공부 시간\n",
        "y = np.array([81, 93, 91, 97])  # 시험 점수\n",
        "\n",
        "mx = np.mean(x)\n",
        "my = np.mean(y)\n",
        "\n",
        "print(\"x 평균: \", mx, \"y 평균: \", my)"
      ]
    },
    {
      "cell_type": "code",
      "source": [
        "#기울기 공식의 분모 부분\n",
        "divisor = sum([(i - mx)**2 for i in x])\n",
        "\n",
        "#기울기 공식 분자 부분\n",
        "def top(x, mx, y, my):\n",
        "  d = 0\n",
        "  for i in range(len(x)):\n",
        "    d += (x[i] - mx) * (y[i] - my)\n",
        "  return d\n",
        "dividend = top(x, mx, y ,my)\n",
        "\n",
        "print(\"분모: \", divisor, \"분자: \", dividend)"
      ],
      "metadata": {
        "colab": {
          "base_uri": "https://localhost:8080/"
        },
        "id": "tWnZtE9eBp3E",
        "outputId": "834d57b3-021d-4296-cbcd-4c22392bcfb5"
      },
      "execution_count": 7,
      "outputs": [
        {
          "output_type": "stream",
          "name": "stdout",
          "text": [
            "분모:  20.0 분자:  46.0\n"
          ]
        }
      ]
    },
    {
      "cell_type": "code",
      "source": [
        "# 기울기 a\n",
        "a = dividend / divisor\n",
        "\n",
        "# y 절편 b\n",
        "b = my - (mx*a)\n",
        "\n",
        "print(\"기울기 a= \", a, \"y 절편 b: \", b)"
      ],
      "metadata": {
        "colab": {
          "base_uri": "https://localhost:8080/"
        },
        "id": "1M7BrVAgBr4z",
        "outputId": "debd9c42-298f-455e-b264-00f424d73653"
      },
      "execution_count": 9,
      "outputs": [
        {
          "output_type": "stream",
          "name": "stdout",
          "text": [
            "기울기 a=  2.3 y 절편 b:  79.0\n"
          ]
        }
      ]
    },
    {
      "cell_type": "markdown",
      "source": [
        "- 평균 제곱 오차(Mean Square Error, MSE)"
      ],
      "metadata": {
        "id": "RiGoGiopCc7g"
      }
    },
    {
      "cell_type": "code",
      "source": [
        "# 임의의 기울기 a와 y절편 b를 정한다.\n",
        "fake_a = 3\n",
        "fake_b = 76\n",
        "\n",
        "x = np.array([2, 4, 6, 8])      # 공부 시간\n",
        "y = np.array([81, 93, 91, 97])  # 시험 점수\n",
        "\n",
        "# y = ax + b\n",
        "def predict(x):\n",
        "  return fake_a * x + fake_b\n",
        "\n",
        "# 예측 값이 들어갈 리스트\n",
        "predict_result = []\n",
        "\n",
        "# 모든 x 값을 한 번씩 대입해 predict_result 리스트를 완성\n",
        "for i in range(len(x)):\n",
        "  predict_result.append(predict(x[i]))\n",
        "  print(\"공부시간=%.f, 실제점수=%.f, 예측점수=%.f\" % (x[i], y[i], predict(x[i])))"
      ],
      "metadata": {
        "colab": {
          "base_uri": "https://localhost:8080/"
        },
        "id": "f5s97C1HCiEU",
        "outputId": "36e01972-4b58-4924-9225-c52d9a353534"
      },
      "execution_count": 13,
      "outputs": [
        {
          "output_type": "stream",
          "name": "stdout",
          "text": [
            "공부시간=2, 실제점수=81, 예측점수=82\n",
            "공부시간=4, 실제점수=93, 예측점수=88\n",
            "공부시간=6, 실제점수=91, 예측점수=94\n",
            "공부시간=8, 실제점수=97, 예측점수=100\n"
          ]
        }
      ]
    },
    {
      "cell_type": "code",
      "source": [
        "n = len(x)\n",
        "def mse(y, y_pred):\n",
        "  return (1/n) * sum((y - y_pred)**2)\n",
        "\n",
        "print(\"MSE: \" + str(mse(y, predict_result)))"
      ],
      "metadata": {
        "colab": {
          "base_uri": "https://localhost:8080/"
        },
        "id": "_tL3haoFGNpX",
        "outputId": "dfa8439f-073a-48f2-c038-7549a5231c2c"
      },
      "execution_count": 18,
      "outputs": [
        {
          "output_type": "stream",
          "name": "stdout",
          "text": [
            "MSE: 11.0\n"
          ]
        }
      ]
    }
  ]
}